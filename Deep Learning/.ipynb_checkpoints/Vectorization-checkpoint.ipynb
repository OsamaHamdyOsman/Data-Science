{
 "cells": [
  {
   "cell_type": "code",
   "execution_count": 2,
   "metadata": {},
   "outputs": [],
   "source": [
    "import numpy as np\n",
    "import time"
   ]
  },
  {
   "cell_type": "code",
   "execution_count": 3,
   "metadata": {},
   "outputs": [],
   "source": [
    "size=10000000"
   ]
  },
  {
   "cell_type": "code",
   "execution_count": 4,
   "metadata": {},
   "outputs": [],
   "source": [
    "a = np.random.rand(size)\n",
    "b = np.random.rand(size)"
   ]
  },
  {
   "cell_type": "markdown",
   "metadata": {},
   "source": [
    "#### Vectorizer computation"
   ]
  },
  {
   "cell_type": "code",
   "execution_count": 5,
   "metadata": {},
   "outputs": [],
   "source": [
    "def vectorizer(size):\n",
    "    c=0\n",
    "    \n",
    "    t1 = time.time()\n",
    "    c = np.dot(a, b)\n",
    "    t2 = time.time()\n",
    "    \n",
    "    print(\"Vactorizer \"+str(int(c))+\" : \"+str((t2-t1)* 1000)+\" ms\")"
   ]
  },
  {
   "cell_type": "markdown",
   "metadata": {},
   "source": [
    "#### Non Vectorizer computation"
   ]
  },
  {
   "cell_type": "code",
   "execution_count": 6,
   "metadata": {},
   "outputs": [],
   "source": [
    "def non_vectorizer(size):\n",
    "    c=0\n",
    "    \n",
    "    t1 = time.time()\n",
    "    for i in range(size):\n",
    "        c += a[i]*b[i]\n",
    "    t2 = time.time()\n",
    "    \n",
    "    print(\"Vactorizer \"+str(int(c))+\" : \"+str((t2-t1)* 1000)+\" ms\")"
   ]
  },
  {
   "cell_type": "code",
   "execution_count": 7,
   "metadata": {},
   "outputs": [
    {
     "name": "stdout",
     "output_type": "stream",
     "text": [
      "Vactorizer 2500832 : 9.973287582397461 ms\n",
      "Vactorizer 2500832 : 3688.581943511963 ms\n"
     ]
    }
   ],
   "source": [
    "vectorizer(size)\n",
    "non_vectorizer(size)"
   ]
  },
  {
   "cell_type": "markdown",
   "metadata": {},
   "source": [
    "### Clearly the vectorizer are much faster to compute than non-vectorizer(loops)."
   ]
  }
 ],
 "metadata": {
  "kernelspec": {
   "display_name": "Python 3",
   "language": "python",
   "name": "python3"
  },
  "language_info": {
   "codemirror_mode": {
    "name": "ipython",
    "version": 3
   },
   "file_extension": ".py",
   "mimetype": "text/x-python",
   "name": "python",
   "nbconvert_exporter": "python",
   "pygments_lexer": "ipython3",
   "version": "3.7.3"
  }
 },
 "nbformat": 4,
 "nbformat_minor": 2
}
