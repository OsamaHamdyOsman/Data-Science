{
 "cells": [
  {
   "cell_type": "markdown",
   "metadata": {},
   "source": [
    "# Vaex"
   ]
  },
  {
   "cell_type": "markdown",
   "metadata": {},
   "source": [
    "### Vaex, what's that?\n",
    "- Vaex is a high performance Python library for lazy Out-of-Core DataFrames (similar to Pandas), to visualize and explore big tabular datasets. \n",
    "- It calculates statistics such as mean, sum, count, standard deviation etc, on an N-dimensional grid for more than a billion (10^9) samples/rows per second. \n",
    "- Visualization is done using histograms, density plots and 3d volume rendering, allowing interactive exploration of big data. Vaex uses memory mapping, zero memory copy policy and lazy computations for best performance (no memory wasted)."
   ]
  },
  {
   "cell_type": "code",
   "execution_count": 38,
   "metadata": {},
   "outputs": [
    {
     "name": "stdout",
     "output_type": "stream",
     "text": [
      "Requirement already satisfied: vaex in c:\\users\\paras\\anaconda3\\lib\\site-packages (3.0.0)\n",
      "Requirement already satisfied: vaex-hdf5<0.7,>=0.6.0 in c:\\users\\paras\\anaconda3\\lib\\site-packages (from vaex) (0.6.0)\n",
      "Requirement already satisfied: vaex-astro<0.8,>=0.7.0 in c:\\users\\paras\\anaconda3\\lib\\site-packages (from vaex) (0.7.0)\n",
      "Requirement already satisfied: vaex-arrow<0.6,>=0.5.0 in c:\\users\\paras\\anaconda3\\lib\\site-packages (from vaex) (0.5.1)\n",
      "Requirement already satisfied: vaex-core<3,>=2.0.0 in c:\\users\\paras\\anaconda3\\lib\\site-packages (from vaex) (2.0.2)\n",
      "Requirement already satisfied: vaex-jupyter<0.6,>=0.5.0 in c:\\users\\paras\\anaconda3\\lib\\site-packages (from vaex) (0.5.1.post0)\n",
      "Requirement already satisfied: vaex-viz<0.5,>=0.4.0 in c:\\users\\paras\\anaconda3\\lib\\site-packages (from vaex) (0.4.0)\n",
      "Requirement already satisfied: vaex-ml<0.10,>=0.9.0 in c:\\users\\paras\\anaconda3\\lib\\site-packages (from vaex) (0.9.0)\n",
      "Requirement already satisfied: vaex-server<0.4,>=0.3.0 in c:\\users\\paras\\anaconda3\\lib\\site-packages (from vaex) (0.3.1)\n",
      "Requirement already satisfied: h5py>=2.9 in c:\\users\\paras\\appdata\\roaming\\python\\python37\\site-packages (from vaex-hdf5<0.7,>=0.6.0->vaex) (2.10.0)\n",
      "Requirement already satisfied: s3fs<0.3 in c:\\users\\paras\\anaconda3\\lib\\site-packages (from vaex-hdf5<0.7,>=0.6.0->vaex) (0.2.2)\n",
      "Requirement already satisfied: pyarrow>=0.15 in c:\\users\\paras\\anaconda3\\lib\\site-packages (from vaex-arrow<0.6,>=0.5.0->vaex) (0.17.1)\n",
      "Requirement already satisfied: matplotlib>=1.3.1 in c:\\users\\paras\\anaconda3\\lib\\site-packages (from vaex-arrow<0.6,>=0.5.0->vaex) (3.0.3)\n",
      "Requirement already satisfied: pillow in c:\\users\\paras\\anaconda3\\lib\\site-packages (from vaex-arrow<0.6,>=0.5.0->vaex) (7.1.2)\n",
      "Requirement already satisfied: six in c:\\users\\paras\\appdata\\roaming\\python\\python37\\site-packages (from vaex-core<3,>=2.0.0->vaex) (1.15.0)\n",
      "Requirement already satisfied: aplus in c:\\users\\paras\\anaconda3\\lib\\site-packages (from vaex-core<3,>=2.0.0->vaex) (0.11.0)\n",
      "Requirement already satisfied: tabulate>=0.8.3 in c:\\users\\paras\\anaconda3\\lib\\site-packages (from vaex-core<3,>=2.0.0->vaex) (0.8.6)\n",
      "Requirement already satisfied: cloudpickle in c:\\users\\paras\\anaconda3\\lib\\site-packages (from vaex-core<3,>=2.0.0->vaex) (0.8.0)\n",
      "Requirement already satisfied: progressbar2 in c:\\users\\paras\\anaconda3\\lib\\site-packages (from vaex-core<3,>=2.0.0->vaex) (3.51.3)\n",
      "Requirement already satisfied: requests in c:\\users\\paras\\appdata\\roaming\\python\\python37\\site-packages (from vaex-core<3,>=2.0.0->vaex) (2.23.0)\n",
      "Requirement already satisfied: dask[array] in c:\\users\\paras\\anaconda3\\lib\\site-packages (from vaex-core<3,>=2.0.0->vaex) (1.1.4)\n",
      "Requirement already satisfied: nest-asyncio>=1.3.3 in c:\\users\\paras\\anaconda3\\lib\\site-packages (from vaex-core<3,>=2.0.0->vaex) (1.3.3)\n",
      "Requirement already satisfied: future>=0.15.2 in c:\\users\\paras\\anaconda3\\lib\\site-packages (from vaex-core<3,>=2.0.0->vaex) (0.17.1)\n",
      "Requirement already satisfied: numpy>=1.16 in c:\\users\\paras\\appdata\\roaming\\python\\python37\\site-packages (from vaex-core<3,>=2.0.0->vaex) (1.18.4)\n",
      "Requirement already satisfied: psutil>=1.2.1 in c:\\users\\paras\\anaconda3\\lib\\site-packages (from vaex-core<3,>=2.0.0->vaex) (5.6.1)\n",
      "Requirement already satisfied: pandas in c:\\users\\paras\\anaconda3\\lib\\site-packages (from vaex-core<3,>=2.0.0->vaex) (0.24.2)\n",
      "Requirement already satisfied: astropy>=2 in c:\\users\\paras\\anaconda3\\lib\\site-packages (from vaex-core<3,>=2.0.0->vaex) (3.1.2)\n",
      "Requirement already satisfied: pyyaml in c:\\users\\paras\\anaconda3\\lib\\site-packages (from vaex-core<3,>=2.0.0->vaex) (5.1)\n",
      "Requirement already satisfied: ipyvuetify<2,>=1.2.2 in c:\\users\\paras\\anaconda3\\lib\\site-packages (from vaex-jupyter<0.6,>=0.5.0->vaex) (1.4.0)\n",
      "Requirement already satisfied: bqplot>=0.10.1 in c:\\users\\paras\\anaconda3\\lib\\site-packages (from vaex-jupyter<0.6,>=0.5.0->vaex) (0.12.12)\n",
      "Requirement already satisfied: ipympl in c:\\users\\paras\\anaconda3\\lib\\site-packages (from vaex-jupyter<0.6,>=0.5.0->vaex) (0.5.6)\n",
      "Requirement already satisfied: ipyvolume>=0.4 in c:\\users\\paras\\anaconda3\\lib\\site-packages (from vaex-jupyter<0.6,>=0.5.0->vaex) (0.5.2)\n",
      "Requirement already satisfied: ipyleaflet in c:\\users\\paras\\anaconda3\\lib\\site-packages (from vaex-jupyter<0.6,>=0.5.0->vaex) (0.13.0)\n",
      "Requirement already satisfied: numba in c:\\users\\paras\\anaconda3\\lib\\site-packages (from vaex-ml<0.10,>=0.9.0->vaex) (0.43.1)\n",
      "Requirement already satisfied: jinja2 in c:\\users\\paras\\anaconda3\\lib\\site-packages (from vaex-ml<0.10,>=0.9.0->vaex) (2.10)\n",
      "Requirement already satisfied: traitlets in c:\\users\\paras\\anaconda3\\lib\\site-packages (from vaex-ml<0.10,>=0.9.0->vaex) (4.3.2)\n",
      "Requirement already satisfied: cachetools in c:\\users\\paras\\appdata\\roaming\\python\\python37\\site-packages (from vaex-server<0.4,>=0.3.0->vaex) (4.1.0)\n",
      "Requirement already satisfied: tornado>4.1 in c:\\users\\paras\\anaconda3\\lib\\site-packages (from vaex-server<0.4,>=0.3.0->vaex) (6.0.2)\n",
      "Requirement already satisfied: botocore>=1.12.91 in c:\\users\\paras\\anaconda3\\lib\\site-packages (from s3fs<0.3->vaex-hdf5<0.7,>=0.6.0->vaex) (1.15.37)\n",
      "Requirement already satisfied: boto3>=1.9.91 in c:\\users\\paras\\anaconda3\\lib\\site-packages (from s3fs<0.3->vaex-hdf5<0.7,>=0.6.0->vaex) (1.12.37)\n",
      "Requirement already satisfied: cycler>=0.10 in c:\\users\\paras\\anaconda3\\lib\\site-packages (from matplotlib>=1.3.1->vaex-arrow<0.6,>=0.5.0->vaex) (0.10.0)\n",
      "Requirement already satisfied: kiwisolver>=1.0.1 in c:\\users\\paras\\anaconda3\\lib\\site-packages (from matplotlib>=1.3.1->vaex-arrow<0.6,>=0.5.0->vaex) (1.0.1)\n",
      "Requirement already satisfied: pyparsing!=2.0.4,!=2.1.2,!=2.1.6,>=2.0.1 in c:\\users\\paras\\anaconda3\\lib\\site-packages (from matplotlib>=1.3.1->vaex-arrow<0.6,>=0.5.0->vaex) (2.3.1)\n",
      "Requirement already satisfied: python-dateutil>=2.1 in c:\\users\\paras\\anaconda3\\lib\\site-packages (from matplotlib>=1.3.1->vaex-arrow<0.6,>=0.5.0->vaex) (2.8.0)\n",
      "Requirement already satisfied: python-utils>=2.3.0 in c:\\users\\paras\\anaconda3\\lib\\site-packages (from progressbar2->vaex-core<3,>=2.0.0->vaex) (2.4.0)\n",
      "Requirement already satisfied: chardet<4,>=3.0.2 in c:\\users\\paras\\appdata\\roaming\\python\\python37\\site-packages (from requests->vaex-core<3,>=2.0.0->vaex) (3.0.4)\n",
      "Requirement already satisfied: idna<3,>=2.5 in c:\\users\\paras\\appdata\\roaming\\python\\python37\\site-packages (from requests->vaex-core<3,>=2.0.0->vaex) (2.9)\n",
      "Requirement already satisfied: urllib3!=1.25.0,!=1.25.1,<1.26,>=1.21.1 in c:\\users\\paras\\appdata\\roaming\\python\\python37\\site-packages (from requests->vaex-core<3,>=2.0.0->vaex) (1.25.9)\n",
      "Requirement already satisfied: certifi>=2017.4.17 in c:\\users\\paras\\appdata\\roaming\\python\\python37\\site-packages (from requests->vaex-core<3,>=2.0.0->vaex) (2020.4.5.1)\n",
      "Requirement already satisfied: toolz>=0.7.3; extra == \"array\" in c:\\users\\paras\\anaconda3\\lib\\site-packages (from dask[array]->vaex-core<3,>=2.0.0->vaex) (0.9.0)\n",
      "Requirement already satisfied: pytz>=2011k in c:\\users\\paras\\anaconda3\\lib\\site-packages (from pandas->vaex-core<3,>=2.0.0->vaex) (2020.1)\n",
      "Requirement already satisfied: ipyvue<2,>=1.3.2 in c:\\users\\paras\\anaconda3\\lib\\site-packages (from ipyvuetify<2,>=1.2.2->vaex-jupyter<0.6,>=0.5.0->vaex) (1.3.2)\n",
      "Requirement already satisfied: ipywidgets>=7.5.0 in c:\\users\\paras\\anaconda3\\lib\\site-packages (from bqplot>=0.10.1->vaex-jupyter<0.6,>=0.5.0->vaex) (7.5.1)\n",
      "Requirement already satisfied: traittypes>=0.0.6 in c:\\users\\paras\\anaconda3\\lib\\site-packages (from bqplot>=0.10.1->vaex-jupyter<0.6,>=0.5.0->vaex) (0.2.1)\n",
      "Requirement already satisfied: ipykernel>=4.7 in c:\\users\\paras\\anaconda3\\lib\\site-packages (from ipympl->vaex-jupyter<0.6,>=0.5.0->vaex) (5.1.0)\n",
      "Requirement already satisfied: ipywebrtc in c:\\users\\paras\\anaconda3\\lib\\site-packages (from ipyvolume>=0.4->vaex-jupyter<0.6,>=0.5.0->vaex) (0.5.0)\n",
      "Requirement already satisfied: pythreejs>=1.0.0 in c:\\users\\paras\\anaconda3\\lib\\site-packages (from ipyvolume>=0.4->vaex-jupyter<0.6,>=0.5.0->vaex) (2.2.0)\n",
      "Requirement already satisfied: branca<0.4,>=0.3.1 in c:\\users\\paras\\anaconda3\\lib\\site-packages (from ipyleaflet->vaex-jupyter<0.6,>=0.5.0->vaex) (0.3.1)\n",
      "Requirement already satisfied: llvmlite>=0.28.0dev0 in c:\\users\\paras\\anaconda3\\lib\\site-packages (from numba->vaex-ml<0.10,>=0.9.0->vaex) (0.28.0)\n",
      "Requirement already satisfied: MarkupSafe>=0.23 in c:\\users\\paras\\anaconda3\\lib\\site-packages (from jinja2->vaex-ml<0.10,>=0.9.0->vaex) (1.1.1)\n",
      "Requirement already satisfied: decorator in c:\\users\\paras\\anaconda3\\lib\\site-packages (from traitlets->vaex-ml<0.10,>=0.9.0->vaex) (4.4.0)\n",
      "Requirement already satisfied: ipython-genutils in c:\\users\\paras\\anaconda3\\lib\\site-packages (from traitlets->vaex-ml<0.10,>=0.9.0->vaex) (0.2.0)\n",
      "Requirement already satisfied: docutils<0.16,>=0.10 in c:\\users\\paras\\anaconda3\\lib\\site-packages (from botocore>=1.12.91->s3fs<0.3->vaex-hdf5<0.7,>=0.6.0->vaex) (0.14)\n",
      "Requirement already satisfied: jmespath<1.0.0,>=0.7.1 in c:\\users\\paras\\anaconda3\\lib\\site-packages (from botocore>=1.12.91->s3fs<0.3->vaex-hdf5<0.7,>=0.6.0->vaex) (0.9.5)\n",
      "Requirement already satisfied: s3transfer<0.4.0,>=0.3.0 in c:\\users\\paras\\anaconda3\\lib\\site-packages (from boto3>=1.9.91->s3fs<0.3->vaex-hdf5<0.7,>=0.6.0->vaex) (0.3.3)\n",
      "Requirement already satisfied: setuptools in c:\\users\\paras\\appdata\\roaming\\python\\python37\\site-packages (from kiwisolver>=1.0.1->matplotlib>=1.3.1->vaex-arrow<0.6,>=0.5.0->vaex) (47.1.1)\n",
      "Requirement already satisfied: widgetsnbextension~=3.5.0 in c:\\users\\paras\\anaconda3\\lib\\site-packages (from ipywidgets>=7.5.0->bqplot>=0.10.1->vaex-jupyter<0.6,>=0.5.0->vaex) (3.5.1)\n",
      "Requirement already satisfied: ipython>=4.0.0; python_version >= \"3.3\" in c:\\users\\paras\\anaconda3\\lib\\site-packages (from ipywidgets>=7.5.0->bqplot>=0.10.1->vaex-jupyter<0.6,>=0.5.0->vaex) (7.4.0)\n",
      "Requirement already satisfied: nbformat>=4.2.0 in c:\\users\\paras\\anaconda3\\lib\\site-packages (from ipywidgets>=7.5.0->bqplot>=0.10.1->vaex-jupyter<0.6,>=0.5.0->vaex) (4.4.0)\n",
      "Requirement already satisfied: jupyter-client in c:\\users\\paras\\anaconda3\\lib\\site-packages (from ipykernel>=4.7->ipympl->vaex-jupyter<0.6,>=0.5.0->vaex) (5.2.4)\n",
      "Requirement already satisfied: ipydatawidgets>=1.1.1 in c:\\users\\paras\\anaconda3\\lib\\site-packages (from pythreejs>=1.0.0->ipyvolume>=0.4->vaex-jupyter<0.6,>=0.5.0->vaex) (4.0.1)\n",
      "Requirement already satisfied: notebook>=4.4.1 in c:\\users\\paras\\anaconda3\\lib\\site-packages (from widgetsnbextension~=3.5.0->ipywidgets>=7.5.0->bqplot>=0.10.1->vaex-jupyter<0.6,>=0.5.0->vaex) (5.7.8)\n",
      "Requirement already satisfied: jedi>=0.10 in c:\\users\\paras\\anaconda3\\lib\\site-packages (from ipython>=4.0.0; python_version >= \"3.3\"->ipywidgets>=7.5.0->bqplot>=0.10.1->vaex-jupyter<0.6,>=0.5.0->vaex) (0.13.3)\n",
      "Requirement already satisfied: pickleshare in c:\\users\\paras\\anaconda3\\lib\\site-packages (from ipython>=4.0.0; python_version >= \"3.3\"->ipywidgets>=7.5.0->bqplot>=0.10.1->vaex-jupyter<0.6,>=0.5.0->vaex) (0.7.5)\n",
      "Requirement already satisfied: backcall in c:\\users\\paras\\anaconda3\\lib\\site-packages (from ipython>=4.0.0; python_version >= \"3.3\"->ipywidgets>=7.5.0->bqplot>=0.10.1->vaex-jupyter<0.6,>=0.5.0->vaex) (0.1.0)\n",
      "Requirement already satisfied: colorama; sys_platform == \"win32\" in c:\\users\\paras\\anaconda3\\lib\\site-packages (from ipython>=4.0.0; python_version >= \"3.3\"->ipywidgets>=7.5.0->bqplot>=0.10.1->vaex-jupyter<0.6,>=0.5.0->vaex) (0.4.1)\n",
      "Requirement already satisfied: prompt-toolkit<2.1.0,>=2.0.0 in c:\\users\\paras\\anaconda3\\lib\\site-packages (from ipython>=4.0.0; python_version >= \"3.3\"->ipywidgets>=7.5.0->bqplot>=0.10.1->vaex-jupyter<0.6,>=0.5.0->vaex) (2.0.9)\n",
      "Requirement already satisfied: pygments in c:\\users\\paras\\anaconda3\\lib\\site-packages (from ipython>=4.0.0; python_version >= \"3.3\"->ipywidgets>=7.5.0->bqplot>=0.10.1->vaex-jupyter<0.6,>=0.5.0->vaex) (2.3.1)\n",
      "Requirement already satisfied: jupyter-core in c:\\users\\paras\\anaconda3\\lib\\site-packages (from nbformat>=4.2.0->ipywidgets>=7.5.0->bqplot>=0.10.1->vaex-jupyter<0.6,>=0.5.0->vaex) (4.4.0)\n",
      "Requirement already satisfied: jsonschema!=2.5.0,>=2.4 in c:\\users\\paras\\anaconda3\\lib\\site-packages (from nbformat>=4.2.0->ipywidgets>=7.5.0->bqplot>=0.10.1->vaex-jupyter<0.6,>=0.5.0->vaex) (3.0.1)\n",
      "Requirement already satisfied: pyzmq>=13 in c:\\users\\paras\\anaconda3\\lib\\site-packages (from jupyter-client->ipykernel>=4.7->ipympl->vaex-jupyter<0.6,>=0.5.0->vaex) (18.0.0)\n",
      "Requirement already satisfied: terminado>=0.8.1 in c:\\users\\paras\\anaconda3\\lib\\site-packages (from notebook>=4.4.1->widgetsnbextension~=3.5.0->ipywidgets>=7.5.0->bqplot>=0.10.1->vaex-jupyter<0.6,>=0.5.0->vaex) (0.8.1)\n",
      "Requirement already satisfied: prometheus-client in c:\\users\\paras\\anaconda3\\lib\\site-packages (from notebook>=4.4.1->widgetsnbextension~=3.5.0->ipywidgets>=7.5.0->bqplot>=0.10.1->vaex-jupyter<0.6,>=0.5.0->vaex) (0.6.0)\n",
      "Requirement already satisfied: Send2Trash in c:\\users\\paras\\anaconda3\\lib\\site-packages (from notebook>=4.4.1->widgetsnbextension~=3.5.0->ipywidgets>=7.5.0->bqplot>=0.10.1->vaex-jupyter<0.6,>=0.5.0->vaex) (1.5.0)\n",
      "Requirement already satisfied: nbconvert in c:\\users\\paras\\anaconda3\\lib\\site-packages (from notebook>=4.4.1->widgetsnbextension~=3.5.0->ipywidgets>=7.5.0->bqplot>=0.10.1->vaex-jupyter<0.6,>=0.5.0->vaex) (5.4.1)\n",
      "Requirement already satisfied: parso>=0.3.0 in c:\\users\\paras\\anaconda3\\lib\\site-packages (from jedi>=0.10->ipython>=4.0.0; python_version >= \"3.3\"->ipywidgets>=7.5.0->bqplot>=0.10.1->vaex-jupyter<0.6,>=0.5.0->vaex) (0.3.4)\n",
      "Requirement already satisfied: wcwidth in c:\\users\\paras\\anaconda3\\lib\\site-packages (from prompt-toolkit<2.1.0,>=2.0.0->ipython>=4.0.0; python_version >= \"3.3\"->ipywidgets>=7.5.0->bqplot>=0.10.1->vaex-jupyter<0.6,>=0.5.0->vaex) (0.1.7)\n",
      "Requirement already satisfied: attrs>=17.4.0 in c:\\users\\paras\\anaconda3\\lib\\site-packages (from jsonschema!=2.5.0,>=2.4->nbformat>=4.2.0->ipywidgets>=7.5.0->bqplot>=0.10.1->vaex-jupyter<0.6,>=0.5.0->vaex) (19.1.0)\n",
      "Requirement already satisfied: pyrsistent>=0.14.0 in c:\\users\\paras\\anaconda3\\lib\\site-packages (from jsonschema!=2.5.0,>=2.4->nbformat>=4.2.0->ipywidgets>=7.5.0->bqplot>=0.10.1->vaex-jupyter<0.6,>=0.5.0->vaex) (0.14.11)\n",
      "Requirement already satisfied: mistune>=0.8.1 in c:\\users\\paras\\anaconda3\\lib\\site-packages (from nbconvert->notebook>=4.4.1->widgetsnbextension~=3.5.0->ipywidgets>=7.5.0->bqplot>=0.10.1->vaex-jupyter<0.6,>=0.5.0->vaex) (0.8.4)\n",
      "Requirement already satisfied: entrypoints>=0.2.2 in c:\\users\\paras\\anaconda3\\lib\\site-packages (from nbconvert->notebook>=4.4.1->widgetsnbextension~=3.5.0->ipywidgets>=7.5.0->bqplot>=0.10.1->vaex-jupyter<0.6,>=0.5.0->vaex) (0.3)\n",
      "Requirement already satisfied: bleach in c:\\users\\paras\\anaconda3\\lib\\site-packages (from nbconvert->notebook>=4.4.1->widgetsnbextension~=3.5.0->ipywidgets>=7.5.0->bqplot>=0.10.1->vaex-jupyter<0.6,>=0.5.0->vaex) (3.1.0)\n",
      "Requirement already satisfied: pandocfilters>=1.4.1 in c:\\users\\paras\\anaconda3\\lib\\site-packages (from nbconvert->notebook>=4.4.1->widgetsnbextension~=3.5.0->ipywidgets>=7.5.0->bqplot>=0.10.1->vaex-jupyter<0.6,>=0.5.0->vaex) (1.4.2)\n",
      "Requirement already satisfied: testpath in c:\\users\\paras\\anaconda3\\lib\\site-packages (from nbconvert->notebook>=4.4.1->widgetsnbextension~=3.5.0->ipywidgets>=7.5.0->bqplot>=0.10.1->vaex-jupyter<0.6,>=0.5.0->vaex) (0.4.2)\n",
      "Requirement already satisfied: defusedxml in c:\\users\\paras\\anaconda3\\lib\\site-packages (from nbconvert->notebook>=4.4.1->widgetsnbextension~=3.5.0->ipywidgets>=7.5.0->bqplot>=0.10.1->vaex-jupyter<0.6,>=0.5.0->vaex) (0.5.0)\n",
      "Requirement already satisfied: webencodings in c:\\users\\paras\\anaconda3\\lib\\site-packages (from bleach->nbconvert->notebook>=4.4.1->widgetsnbextension~=3.5.0->ipywidgets>=7.5.0->bqplot>=0.10.1->vaex-jupyter<0.6,>=0.5.0->vaex) (0.5.1)\n"
     ]
    }
   ],
   "source": [
    "!pip install vaex"
   ]
  },
  {
   "cell_type": "code",
   "execution_count": 39,
   "metadata": {},
   "outputs": [],
   "source": [
    "import vaex\n",
    "\n",
    "import pandas as pd\n",
    "import numpy as np"
   ]
  },
  {
   "cell_type": "code",
   "execution_count": 40,
   "metadata": {},
   "outputs": [
    {
     "data": {
      "text/html": [
       "<div>\n",
       "<style scoped>\n",
       "    .dataframe tbody tr th:only-of-type {\n",
       "        vertical-align: middle;\n",
       "    }\n",
       "\n",
       "    .dataframe tbody tr th {\n",
       "        vertical-align: top;\n",
       "    }\n",
       "\n",
       "    .dataframe thead th {\n",
       "        text-align: right;\n",
       "    }\n",
       "</style>\n",
       "<table border=\"1\" class=\"dataframe\">\n",
       "  <thead>\n",
       "    <tr style=\"text-align: right;\">\n",
       "      <th></th>\n",
       "      <th>c0</th>\n",
       "      <th>c1</th>\n",
       "      <th>c2</th>\n",
       "      <th>c3</th>\n",
       "      <th>c4</th>\n",
       "      <th>c5</th>\n",
       "      <th>c6</th>\n",
       "      <th>c7</th>\n",
       "      <th>c8</th>\n",
       "      <th>c9</th>\n",
       "    </tr>\n",
       "  </thead>\n",
       "  <tbody>\n",
       "    <tr>\n",
       "      <th>0</th>\n",
       "      <td>4</td>\n",
       "      <td>42</td>\n",
       "      <td>80</td>\n",
       "      <td>16</td>\n",
       "      <td>18</td>\n",
       "      <td>40</td>\n",
       "      <td>80</td>\n",
       "      <td>33</td>\n",
       "      <td>33</td>\n",
       "      <td>18</td>\n",
       "    </tr>\n",
       "    <tr>\n",
       "      <th>1</th>\n",
       "      <td>80</td>\n",
       "      <td>89</td>\n",
       "      <td>0</td>\n",
       "      <td>30</td>\n",
       "      <td>48</td>\n",
       "      <td>20</td>\n",
       "      <td>74</td>\n",
       "      <td>65</td>\n",
       "      <td>51</td>\n",
       "      <td>99</td>\n",
       "    </tr>\n",
       "    <tr>\n",
       "      <th>2</th>\n",
       "      <td>19</td>\n",
       "      <td>93</td>\n",
       "      <td>70</td>\n",
       "      <td>14</td>\n",
       "      <td>38</td>\n",
       "      <td>83</td>\n",
       "      <td>60</td>\n",
       "      <td>48</td>\n",
       "      <td>60</td>\n",
       "      <td>91</td>\n",
       "    </tr>\n",
       "    <tr>\n",
       "      <th>3</th>\n",
       "      <td>3</td>\n",
       "      <td>95</td>\n",
       "      <td>96</td>\n",
       "      <td>64</td>\n",
       "      <td>31</td>\n",
       "      <td>82</td>\n",
       "      <td>66</td>\n",
       "      <td>74</td>\n",
       "      <td>80</td>\n",
       "      <td>13</td>\n",
       "    </tr>\n",
       "    <tr>\n",
       "      <th>4</th>\n",
       "      <td>94</td>\n",
       "      <td>22</td>\n",
       "      <td>55</td>\n",
       "      <td>27</td>\n",
       "      <td>3</td>\n",
       "      <td>67</td>\n",
       "      <td>16</td>\n",
       "      <td>23</td>\n",
       "      <td>79</td>\n",
       "      <td>46</td>\n",
       "    </tr>\n",
       "  </tbody>\n",
       "</table>\n",
       "</div>"
      ],
      "text/plain": [
       "   c0  c1  c2  c3  c4  c5  c6  c7  c8  c9\n",
       "0   4  42  80  16  18  40  80  33  33  18\n",
       "1  80  89   0  30  48  20  74  65  51  99\n",
       "2  19  93  70  14  38  83  60  48  60  91\n",
       "3   3  95  96  64  31  82  66  74  80  13\n",
       "4  94  22  55  27   3  67  16  23  79  46"
      ]
     },
     "execution_count": 40,
     "metadata": {},
     "output_type": "execute_result"
    }
   ],
   "source": [
    "n_rows = 100000 # one hundred thousand random data\n",
    "n_cols = 10\n",
    "df = pd.DataFrame(np.random.randint(0, 100, size=(n_rows, n_cols)), columns=['c%d' % i for i in range(n_cols)])\n",
    "df.head()"
   ]
  },
  {
   "cell_type": "code",
   "execution_count": 41,
   "metadata": {},
   "outputs": [
    {
     "name": "stdout",
     "output_type": "stream",
     "text": [
      "<class 'pandas.core.frame.DataFrame'>\n",
      "RangeIndex: 100000 entries, 0 to 99999\n",
      "Data columns (total 10 columns):\n",
      "c0    100000 non-null int32\n",
      "c1    100000 non-null int32\n",
      "c2    100000 non-null int32\n",
      "c3    100000 non-null int32\n",
      "c4    100000 non-null int32\n",
      "c5    100000 non-null int32\n",
      "c6    100000 non-null int32\n",
      "c7    100000 non-null int32\n",
      "c8    100000 non-null int32\n",
      "c9    100000 non-null int32\n",
      "dtypes: int32(10)\n",
      "memory usage: 3.8 MB\n"
     ]
    }
   ],
   "source": [
    "df.info(memory_usage='deep')"
   ]
  },
  {
   "cell_type": "markdown",
   "metadata": {},
   "source": [
    "### Creating Csv files"
   ]
  },
  {
   "cell_type": "code",
   "execution_count": 42,
   "metadata": {},
   "outputs": [],
   "source": [
    "file_path = 'main_dataset.csv'\n",
    "df.to_csv(file_path, index=False)"
   ]
  },
  {
   "cell_type": "markdown",
   "metadata": {},
   "source": [
    "### Create Hdf5 files"
   ]
  },
  {
   "cell_type": "markdown",
   "metadata": {},
   "source": [
    "Vaex required us to give data in form of hdf5 format"
   ]
  },
  {
   "cell_type": "code",
   "execution_count": 43,
   "metadata": {},
   "outputs": [],
   "source": [
    "vaex_df = vaex.from_csv(file_path, convert=True, chunk_size=5_000_000)"
   ]
  },
  {
   "cell_type": "code",
   "execution_count": 44,
   "metadata": {
    "scrolled": true
   },
   "outputs": [
    {
     "data": {
      "text/plain": [
       "vaex.hdf5.dataset.Hdf5MemoryMapped"
      ]
     },
     "execution_count": 44,
     "metadata": {},
     "output_type": "execute_result"
    }
   ],
   "source": [
    "type(vaex_df)"
   ]
  },
  {
   "cell_type": "markdown",
   "metadata": {},
   "source": [
    "### Read Hdf5 files using Vaex library"
   ]
  },
  {
   "cell_type": "code",
   "execution_count": 45,
   "metadata": {},
   "outputs": [],
   "source": [
    "vaex_df = vaex.open('main_dataset.csv.hdf5')"
   ]
  },
  {
   "cell_type": "code",
   "execution_count": 46,
   "metadata": {},
   "outputs": [
    {
     "data": {
      "text/plain": [
       "vaex.hdf5.dataset.Hdf5MemoryMapped"
      ]
     },
     "execution_count": 46,
     "metadata": {},
     "output_type": "execute_result"
    }
   ],
   "source": [
    "type(vaex_df)"
   ]
  },
  {
   "cell_type": "code",
   "execution_count": 47,
   "metadata": {},
   "outputs": [
    {
     "data": {
      "text/html": [
       "<table>\n",
       "<thead>\n",
       "<tr><th>#                            </th><th style=\"text-align: right;\">  c0</th><th style=\"text-align: right;\">  c1</th><th style=\"text-align: right;\">  c2</th><th style=\"text-align: right;\">  c3</th><th style=\"text-align: right;\">  c4</th><th style=\"text-align: right;\">  c5</th><th style=\"text-align: right;\">  c6</th><th style=\"text-align: right;\">  c7</th><th style=\"text-align: right;\">  c8</th><th style=\"text-align: right;\">  c9</th></tr>\n",
       "</thead>\n",
       "<tbody>\n",
       "<tr><td><i style='opacity: 0.6'>0</i></td><td style=\"text-align: right;\">  85</td><td style=\"text-align: right;\">  51</td><td style=\"text-align: right;\">  28</td><td style=\"text-align: right;\">  42</td><td style=\"text-align: right;\">  36</td><td style=\"text-align: right;\">  33</td><td style=\"text-align: right;\">  30</td><td style=\"text-align: right;\">  80</td><td style=\"text-align: right;\">  33</td><td style=\"text-align: right;\">   8</td></tr>\n",
       "<tr><td><i style='opacity: 0.6'>1</i></td><td style=\"text-align: right;\">  99</td><td style=\"text-align: right;\">  42</td><td style=\"text-align: right;\">  56</td><td style=\"text-align: right;\">  36</td><td style=\"text-align: right;\">  24</td><td style=\"text-align: right;\">  32</td><td style=\"text-align: right;\">   3</td><td style=\"text-align: right;\">  29</td><td style=\"text-align: right;\">  76</td><td style=\"text-align: right;\">  40</td></tr>\n",
       "<tr><td><i style='opacity: 0.6'>2</i></td><td style=\"text-align: right;\">  44</td><td style=\"text-align: right;\">  23</td><td style=\"text-align: right;\">  44</td><td style=\"text-align: right;\">  64</td><td style=\"text-align: right;\">  27</td><td style=\"text-align: right;\">  14</td><td style=\"text-align: right;\">   6</td><td style=\"text-align: right;\">  94</td><td style=\"text-align: right;\">  90</td><td style=\"text-align: right;\">  62</td></tr>\n",
       "<tr><td><i style='opacity: 0.6'>3</i></td><td style=\"text-align: right;\">  30</td><td style=\"text-align: right;\">  48</td><td style=\"text-align: right;\">  34</td><td style=\"text-align: right;\">  90</td><td style=\"text-align: right;\">  57</td><td style=\"text-align: right;\">  93</td><td style=\"text-align: right;\">  61</td><td style=\"text-align: right;\">  78</td><td style=\"text-align: right;\">  35</td><td style=\"text-align: right;\">  25</td></tr>\n",
       "<tr><td><i style='opacity: 0.6'>4</i></td><td style=\"text-align: right;\">   7</td><td style=\"text-align: right;\">  33</td><td style=\"text-align: right;\">  44</td><td style=\"text-align: right;\">  69</td><td style=\"text-align: right;\">  75</td><td style=\"text-align: right;\">  60</td><td style=\"text-align: right;\">  71</td><td style=\"text-align: right;\">  83</td><td style=\"text-align: right;\">   6</td><td style=\"text-align: right;\">  67</td></tr>\n",
       "<tr><td><i style='opacity: 0.6'>5</i></td><td style=\"text-align: right;\">  95</td><td style=\"text-align: right;\">  84</td><td style=\"text-align: right;\">  78</td><td style=\"text-align: right;\">  81</td><td style=\"text-align: right;\">   6</td><td style=\"text-align: right;\">  99</td><td style=\"text-align: right;\">  55</td><td style=\"text-align: right;\">  38</td><td style=\"text-align: right;\">  52</td><td style=\"text-align: right;\">  35</td></tr>\n",
       "<tr><td><i style='opacity: 0.6'>6</i></td><td style=\"text-align: right;\">  14</td><td style=\"text-align: right;\">  96</td><td style=\"text-align: right;\">  59</td><td style=\"text-align: right;\">  94</td><td style=\"text-align: right;\">  55</td><td style=\"text-align: right;\">  79</td><td style=\"text-align: right;\">  85</td><td style=\"text-align: right;\">  18</td><td style=\"text-align: right;\">  51</td><td style=\"text-align: right;\">  22</td></tr>\n",
       "<tr><td><i style='opacity: 0.6'>7</i></td><td style=\"text-align: right;\">  59</td><td style=\"text-align: right;\">  98</td><td style=\"text-align: right;\">  31</td><td style=\"text-align: right;\">  22</td><td style=\"text-align: right;\">  83</td><td style=\"text-align: right;\">  36</td><td style=\"text-align: right;\">  60</td><td style=\"text-align: right;\">  36</td><td style=\"text-align: right;\">  72</td><td style=\"text-align: right;\">  58</td></tr>\n",
       "<tr><td><i style='opacity: 0.6'>8</i></td><td style=\"text-align: right;\">   4</td><td style=\"text-align: right;\">  92</td><td style=\"text-align: right;\">  77</td><td style=\"text-align: right;\">  20</td><td style=\"text-align: right;\">  70</td><td style=\"text-align: right;\">  48</td><td style=\"text-align: right;\">  38</td><td style=\"text-align: right;\">  97</td><td style=\"text-align: right;\">  84</td><td style=\"text-align: right;\">  47</td></tr>\n",
       "<tr><td><i style='opacity: 0.6'>9</i></td><td style=\"text-align: right;\">  22</td><td style=\"text-align: right;\">  29</td><td style=\"text-align: right;\">  88</td><td style=\"text-align: right;\">   6</td><td style=\"text-align: right;\">   1</td><td style=\"text-align: right;\">  40</td><td style=\"text-align: right;\">  12</td><td style=\"text-align: right;\">  89</td><td style=\"text-align: right;\">  80</td><td style=\"text-align: right;\">  48</td></tr>\n",
       "</tbody>\n",
       "</table>"
      ],
      "text/plain": [
       "  #    c0    c1    c2    c3    c4    c5    c6    c7    c8    c9\n",
       "  0    85    51    28    42    36    33    30    80    33     8\n",
       "  1    99    42    56    36    24    32     3    29    76    40\n",
       "  2    44    23    44    64    27    14     6    94    90    62\n",
       "  3    30    48    34    90    57    93    61    78    35    25\n",
       "  4     7    33    44    69    75    60    71    83     6    67\n",
       "  5    95    84    78    81     6    99    55    38    52    35\n",
       "  6    14    96    59    94    55    79    85    18    51    22\n",
       "  7    59    98    31    22    83    36    60    36    72    58\n",
       "  8     4    92    77    20    70    48    38    97    84    47\n",
       "  9    22    29    88     6     1    40    12    89    80    48"
      ]
     },
     "execution_count": 47,
     "metadata": {},
     "output_type": "execute_result"
    }
   ],
   "source": [
    "vaex_df.head()"
   ]
  },
  {
   "cell_type": "markdown",
   "metadata": {},
   "source": [
    "### Expression system\n",
    "- Let's try to implement some expressions using vaex\n",
    "- Don't waste memory or time with feature engineering, we (lazily) transform your data when needed."
   ]
  },
  {
   "cell_type": "code",
   "execution_count": 48,
   "metadata": {},
   "outputs": [
    {
     "name": "stdout",
     "output_type": "stream",
     "text": [
      "Wall time: 0 ns\n"
     ]
    }
   ],
   "source": [
    "%%time\n",
    "vaex_df['multiplication_col13']=vaex_df.c1*vaex_df.c3"
   ]
  },
  {
   "cell_type": "code",
   "execution_count": 49,
   "metadata": {},
   "outputs": [
    {
     "data": {
      "text/plain": [
       "Expression = multiplication_col13\n",
       "Length: 100,000 dtype: int64 (column)\n",
       "-------------------------------------\n",
       "    0  2142\n",
       "    1  1512\n",
       "    2  1472\n",
       "    3  4320\n",
       "    4  2277\n",
       "    ...    \n",
       "99995  7332\n",
       "99996  2852\n",
       "99997  2200\n",
       "99998   510\n",
       "99999  1040"
      ]
     },
     "execution_count": 49,
     "metadata": {},
     "output_type": "execute_result"
    }
   ],
   "source": [
    "vaex_df['multiplication_col13']"
   ]
  },
  {
   "cell_type": "markdown",
   "metadata": {},
   "source": [
    "### Out-of-core DataFrame\n",
    "Filtering and evaluating expressions will not waste memory by making copies; the data is kept untouched on disk, and will be streamed only when needed. Delay the time before you need a cluster."
   ]
  },
  {
   "cell_type": "code",
   "execution_count": 50,
   "metadata": {},
   "outputs": [
    {
     "data": {
      "text/html": [
       "<table>\n",
       "<thead>\n",
       "<tr><th>#                                 </th><th>c0  </th><th>c1  </th><th>c2  </th><th>c3  </th><th>c4  </th><th>c5  </th><th>c6  </th><th>c7  </th><th>c8  </th><th>c9  </th><th>multiplication_col13  </th></tr>\n",
       "</thead>\n",
       "<tbody>\n",
       "<tr><td><i style='opacity: 0.6'>0</i>     </td><td>95  </td><td>84  </td><td>78  </td><td>81  </td><td>6   </td><td>99  </td><td>55  </td><td>38  </td><td>52  </td><td>35  </td><td>6804                  </td></tr>\n",
       "<tr><td><i style='opacity: 0.6'>1</i>     </td><td>4   </td><td>92  </td><td>77  </td><td>20  </td><td>70  </td><td>48  </td><td>38  </td><td>97  </td><td>84  </td><td>47  </td><td>1840                  </td></tr>\n",
       "<tr><td><i style='opacity: 0.6'>2</i>     </td><td>22  </td><td>29  </td><td>88  </td><td>6   </td><td>1   </td><td>40  </td><td>12  </td><td>89  </td><td>80  </td><td>48  </td><td>174                   </td></tr>\n",
       "<tr><td><i style='opacity: 0.6'>3</i>     </td><td>56  </td><td>52  </td><td>76  </td><td>53  </td><td>85  </td><td>6   </td><td>69  </td><td>49  </td><td>4   </td><td>40  </td><td>2756                  </td></tr>\n",
       "<tr><td><i style='opacity: 0.6'>4</i>     </td><td>26  </td><td>94  </td><td>88  </td><td>51  </td><td>22  </td><td>30  </td><td>21  </td><td>32  </td><td>38  </td><td>93  </td><td>4794                  </td></tr>\n",
       "<tr><td>...                               </td><td>... </td><td>... </td><td>... </td><td>... </td><td>... </td><td>... </td><td>... </td><td>... </td><td>... </td><td>... </td><td>...                   </td></tr>\n",
       "<tr><td><i style='opacity: 0.6'>28,961</i></td><td>76  </td><td>38  </td><td>80  </td><td>91  </td><td>39  </td><td>74  </td><td>64  </td><td>86  </td><td>24  </td><td>45  </td><td>3458                  </td></tr>\n",
       "<tr><td><i style='opacity: 0.6'>28,962</i></td><td>2   </td><td>35  </td><td>98  </td><td>94  </td><td>28  </td><td>45  </td><td>35  </td><td>64  </td><td>59  </td><td>80  </td><td>3290                  </td></tr>\n",
       "<tr><td><i style='opacity: 0.6'>28,963</i></td><td>56  </td><td>98  </td><td>73  </td><td>85  </td><td>0   </td><td>23  </td><td>51  </td><td>58  </td><td>15  </td><td>16  </td><td>8330                  </td></tr>\n",
       "<tr><td><i style='opacity: 0.6'>28,964</i></td><td>1   </td><td>34  </td><td>99  </td><td>0   </td><td>45  </td><td>38  </td><td>80  </td><td>26  </td><td>26  </td><td>37  </td><td>0                     </td></tr>\n",
       "<tr><td><i style='opacity: 0.6'>28,965</i></td><td>49  </td><td>20  </td><td>79  </td><td>52  </td><td>67  </td><td>51  </td><td>87  </td><td>91  </td><td>11  </td><td>88  </td><td>1040                  </td></tr>\n",
       "</tbody>\n",
       "</table>"
      ],
      "text/plain": [
       "#       c0    c1    c2    c3    c4    c5    c6    c7    c8    c9    multiplication_col13\n",
       "0       95    84    78    81    6     99    55    38    52    35    6804\n",
       "1       4     92    77    20    70    48    38    97    84    47    1840\n",
       "2       22    29    88    6     1     40    12    89    80    48    174\n",
       "3       56    52    76    53    85    6     69    49    4     40    2756\n",
       "4       26    94    88    51    22    30    21    32    38    93    4794\n",
       "...     ...   ...   ...   ...   ...   ...   ...   ...   ...   ...   ...\n",
       "28,961  76    38    80    91    39    74    64    86    24    45    3458\n",
       "28,962  2     35    98    94    28    45    35    64    59    80    3290\n",
       "28,963  56    98    73    85    0     23    51    58    15    16    8330\n",
       "28,964  1     34    99    0     45    38    80    26    26    37    0\n",
       "28,965  49    20    79    52    67    51    87    91    11    88    1040"
      ]
     },
     "execution_count": 50,
     "metadata": {},
     "output_type": "execute_result"
    }
   ],
   "source": [
    "vaex_df[vaex_df.c2>70]"
   ]
  },
  {
   "cell_type": "markdown",
   "metadata": {},
   "source": [
    "#### Filtering will not make a memory copy"
   ]
  },
  {
   "cell_type": "code",
   "execution_count": 51,
   "metadata": {},
   "outputs": [],
   "source": [
    "dff=vaex_df[vaex_df.c2>70]"
   ]
  },
  {
   "cell_type": "markdown",
   "metadata": {},
   "source": [
    "#### All the agorithms work out of core, the limit is the size of your hard driver"
   ]
  },
  {
   "cell_type": "code",
   "execution_count": 52,
   "metadata": {},
   "outputs": [
    {
     "data": {
      "application/vnd.jupyter.widget-view+json": {
       "model_id": "f3c46d4d57e2462dbfe6107b00a3a843",
       "version_major": 2,
       "version_minor": 0
      },
      "text/plain": [
       "HBox(children=(FloatProgress(value=0.0, max=1.0), Label(value='In progress...')))"
      ]
     },
     "metadata": {},
     "output_type": "display_data"
    },
    {
     "data": {
      "text/plain": [
       "array([71, 99], dtype=int64)"
      ]
     },
     "execution_count": 52,
     "metadata": {},
     "output_type": "execute_result"
    }
   ],
   "source": [
    "dff.c2.minmax(progress='widget')"
   ]
  },
  {
   "cell_type": "markdown",
   "metadata": {},
   "source": [
    "### Fast groupby / aggregations\n",
    "Vaex implements parallelized, highly performant groupby operations, especially when using categories (>1 billion/second)."
   ]
  },
  {
   "cell_type": "code",
   "execution_count": 53,
   "metadata": {},
   "outputs": [
    {
     "name": "stdout",
     "output_type": "stream",
     "text": [
      "Wall time: 29.6 ms\n"
     ]
    }
   ],
   "source": [
    "%%time\n",
    "vaex_df_group=vaex_df.groupby(vaex_df.c1,agg=vaex.agg.mean(vaex_df.c4))\n",
    "vaex_df_group"
   ]
  },
  {
   "cell_type": "code",
   "execution_count": 54,
   "metadata": {},
   "outputs": [
    {
     "name": "stdout",
     "output_type": "stream",
     "text": [
      "Wall time: 22.3 ms\n"
     ]
    },
    {
     "data": {
      "text/html": [
       "<table>\n",
       "<thead>\n",
       "<tr><th>#                             </th><th>c1  </th><th>count  </th></tr>\n",
       "</thead>\n",
       "<tbody>\n",
       "<tr><td><i style='opacity: 0.6'>0</i> </td><td>51  </td><td>1018   </td></tr>\n",
       "<tr><td><i style='opacity: 0.6'>1</i> </td><td>42  </td><td>927    </td></tr>\n",
       "<tr><td><i style='opacity: 0.6'>2</i> </td><td>23  </td><td>932    </td></tr>\n",
       "<tr><td><i style='opacity: 0.6'>3</i> </td><td>48  </td><td>982    </td></tr>\n",
       "<tr><td><i style='opacity: 0.6'>4</i> </td><td>33  </td><td>980    </td></tr>\n",
       "<tr><td>...                           </td><td>... </td><td>...    </td></tr>\n",
       "<tr><td><i style='opacity: 0.6'>95</i></td><td>28  </td><td>1054   </td></tr>\n",
       "<tr><td><i style='opacity: 0.6'>96</i></td><td>19  </td><td>1026   </td></tr>\n",
       "<tr><td><i style='opacity: 0.6'>97</i></td><td>74  </td><td>986    </td></tr>\n",
       "<tr><td><i style='opacity: 0.6'>98</i></td><td>36  </td><td>996    </td></tr>\n",
       "<tr><td><i style='opacity: 0.6'>99</i></td><td>89  </td><td>1001   </td></tr>\n",
       "</tbody>\n",
       "</table>"
      ],
      "text/plain": [
       "#    c1    count\n",
       "0    51    1018\n",
       "1    42    927\n",
       "2    23    932\n",
       "3    48    982\n",
       "4    33    980\n",
       "...  ...   ...\n",
       "95   28    1054\n",
       "96   19    1026\n",
       "97   74    986\n",
       "98   36    996\n",
       "99   89    1001"
      ]
     },
     "execution_count": 54,
     "metadata": {},
     "output_type": "execute_result"
    }
   ],
   "source": [
    "%%time\n",
    "vaex_df.groupby(vaex_df.c1,agg='count')"
   ]
  },
  {
   "cell_type": "markdown",
   "metadata": {},
   "source": [
    "### Great! we learned Vaex."
   ]
  }
 ],
 "metadata": {
  "kernelspec": {
   "display_name": "Python 3",
   "language": "python",
   "name": "python3"
  },
  "language_info": {
   "codemirror_mode": {
    "name": "ipython",
    "version": 3
   },
   "file_extension": ".py",
   "mimetype": "text/x-python",
   "name": "python",
   "nbconvert_exporter": "python",
   "pygments_lexer": "ipython3",
   "version": "3.7.3"
  }
 },
 "nbformat": 4,
 "nbformat_minor": 4
}
