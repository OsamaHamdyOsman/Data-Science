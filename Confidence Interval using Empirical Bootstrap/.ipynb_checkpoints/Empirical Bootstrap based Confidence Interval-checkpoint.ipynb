{
 "cells": [
  {
   "cell_type": "markdown",
   "metadata": {},
   "source": [
    "# Empirical Bootstrap based Confidence Interval"
   ]
  },
  {
   "cell_type": "code",
   "execution_count": 1,
   "metadata": {},
   "outputs": [],
   "source": [
    "# importing important libraries.\n",
    "import pandas as pd\n",
    "import numpy as np\n",
    "\n",
    "import matplotlib.pyplot as plt\n",
    "%matplotlib inline\n",
    "\n",
    "from sklearn.utils import resample\n",
    "from sklearn.metrics import accuracy_score"
   ]
  },
  {
   "cell_type": "code",
   "execution_count": 2,
   "metadata": {},
   "outputs": [
    {
     "data": {
      "text/html": [
       "<div>\n",
       "<style scoped>\n",
       "    .dataframe tbody tr th:only-of-type {\n",
       "        vertical-align: middle;\n",
       "    }\n",
       "\n",
       "    .dataframe tbody tr th {\n",
       "        vertical-align: top;\n",
       "    }\n",
       "\n",
       "    .dataframe thead th {\n",
       "        text-align: right;\n",
       "    }\n",
       "</style>\n",
       "<table border=\"1\" class=\"dataframe\">\n",
       "  <thead>\n",
       "    <tr style=\"text-align: right;\">\n",
       "      <th></th>\n",
       "      <th>Gender</th>\n",
       "      <th>Height</th>\n",
       "      <th>Weight</th>\n",
       "      <th>Index</th>\n",
       "    </tr>\n",
       "  </thead>\n",
       "  <tbody>\n",
       "    <tr>\n",
       "      <th>0</th>\n",
       "      <td>Male</td>\n",
       "      <td>174</td>\n",
       "      <td>96</td>\n",
       "      <td>4</td>\n",
       "    </tr>\n",
       "    <tr>\n",
       "      <th>1</th>\n",
       "      <td>Male</td>\n",
       "      <td>189</td>\n",
       "      <td>87</td>\n",
       "      <td>2</td>\n",
       "    </tr>\n",
       "    <tr>\n",
       "      <th>2</th>\n",
       "      <td>Female</td>\n",
       "      <td>185</td>\n",
       "      <td>110</td>\n",
       "      <td>4</td>\n",
       "    </tr>\n",
       "    <tr>\n",
       "      <th>3</th>\n",
       "      <td>Female</td>\n",
       "      <td>195</td>\n",
       "      <td>104</td>\n",
       "      <td>3</td>\n",
       "    </tr>\n",
       "    <tr>\n",
       "      <th>4</th>\n",
       "      <td>Male</td>\n",
       "      <td>149</td>\n",
       "      <td>61</td>\n",
       "      <td>3</td>\n",
       "    </tr>\n",
       "  </tbody>\n",
       "</table>\n",
       "</div>"
      ],
      "text/plain": [
       "   Gender  Height  Weight  Index\n",
       "0    Male     174      96      4\n",
       "1    Male     189      87      2\n",
       "2  Female     185     110      4\n",
       "3  Female     195     104      3\n",
       "4    Male     149      61      3"
      ]
     },
     "execution_count": 2,
     "metadata": {},
     "output_type": "execute_result"
    }
   ],
   "source": [
    "# importing the raw height and weights data using pandas library.\n",
    "raw_df = pd.read_csv(\"height_weight_data.csv\")\n",
    "raw_df.head()"
   ]
  },
  {
   "cell_type": "code",
   "execution_count": 3,
   "metadata": {},
   "outputs": [
    {
     "name": "stdout",
     "output_type": "stream",
     "text": [
      "500\n"
     ]
    }
   ],
   "source": [
    "# selecting the useful height column of interest.\n",
    "df = np.array(raw_df[\"Height\"])\n",
    "n = len(df)\n",
    "print(n)"
   ]
  },
  {
   "cell_type": "code",
   "execution_count": 4,
   "metadata": {},
   "outputs": [],
   "source": [
    "# calcualting empirical bootstrap based medians list.\n",
    "medians = []\n",
    "for i in range(1000):\n",
    "    s = resample(df, n_samples=n)\n",
    "    m = np.median(s)\n",
    "    medians.append(m)"
   ]
  },
  {
   "cell_type": "code",
   "execution_count": 5,
   "metadata": {},
   "outputs": [
    {
     "name": "stdout",
     "output_type": "stream",
     "text": [
      "[171.0, 172.0, 168.5, 171.0, 169.0, 169.0, 169.0, 168.0, 169.0, 171.0, 171.0, 171.0, 170.0, 170.0, 172.0, 172.0, 171.0, 169.0, 170.0, 171.0, 168.0, 169.0, 172.0, 172.0, 171.0, 167.5, 171.0, 168.0, 169.0, 168.0, 169.0, 172.0, 172.0, 172.0, 172.0, 172.0, 169.0, 171.0, 170.0, 170.0, 169.0, 169.0, 170.0, 171.0, 170.0, 169.0, 169.0, 168.0, 170.0, 169.5, 170.5, 172.0, 169.0, 171.0, 169.0, 173.0, 170.0, 171.0, 170.0, 172.0, 172.0, 169.5, 171.0, 171.0, 170.0, 172.5, 168.0, 170.0, 170.0, 171.0, 172.0, 168.0, 170.0, 172.0, 169.5, 169.5, 168.0, 169.0, 171.0, 171.0, 171.0, 171.0, 171.5, 174.0, 171.0, 169.0, 169.0, 170.0, 172.0, 172.0, 172.0, 171.0, 171.0, 169.0, 169.0, 169.0, 170.0, 173.0, 172.0, 168.0, 169.0, 172.0, 171.0, 172.0, 170.5, 170.0, 169.5, 171.0, 172.0, 170.0, 172.0, 171.0, 172.0, 171.0, 169.0, 171.0, 176.0, 171.0, 170.0, 169.0, 170.0, 170.0, 172.0, 169.0, 169.0, 171.0, 171.0, 171.0, 169.0, 171.0, 172.0, 171.0, 172.0, 171.0, 169.0, 172.0, 169.0, 171.5, 171.0, 169.0, 171.0, 171.0, 172.0, 172.0, 171.0, 171.0, 172.0, 172.0, 171.0, 172.0, 171.5, 172.0, 170.0, 170.0, 169.0, 170.5, 171.0, 171.0, 169.0, 168.0, 172.0, 170.0, 172.0, 172.0, 168.0, 171.5, 172.0, 172.0, 171.0, 172.0, 172.0, 172.0, 170.0, 171.0, 172.0, 170.0, 173.0, 170.0, 169.0, 171.0, 169.0, 172.0, 171.0, 172.0, 172.0, 172.0, 169.0, 169.0, 169.0, 168.5, 171.0, 171.0, 173.0, 169.0, 174.0, 169.0, 170.0, 172.0, 170.0, 169.0, 168.0, 172.5, 172.0, 171.5, 168.5, 171.0, 169.0, 170.0, 169.5, 171.0, 172.0, 172.0, 170.0, 169.0, 171.0, 172.0, 168.0, 169.0, 170.0, 170.0, 172.0, 168.0, 171.0, 169.0, 172.0, 171.0, 170.5, 170.0, 171.5, 169.0, 171.0, 171.0, 169.0, 170.0, 168.0, 169.0, 172.0, 170.0, 172.0, 171.0, 170.0, 171.0, 169.5, 169.0, 168.0, 171.5, 172.0, 170.0, 169.0, 169.0, 171.0, 174.0, 168.0, 170.0, 168.0, 168.0, 169.0, 169.0, 170.0, 169.0, 171.0, 172.0, 172.0, 172.0, 171.5, 173.0, 171.0, 170.0, 172.0, 172.0, 171.0, 171.0, 169.0, 171.0, 171.0, 170.5, 172.0, 169.0, 172.0, 171.0, 171.0, 169.0, 172.0, 168.0, 170.0, 169.0, 170.0, 170.0, 168.5, 171.0, 170.0, 171.0, 170.0, 172.0, 170.0, 171.0, 170.0, 170.0, 171.0, 169.0, 172.0, 170.0, 170.5, 170.5, 171.0, 169.0, 168.0, 170.0, 168.0, 169.0, 171.0, 170.0, 173.0, 172.0, 169.0, 170.0, 172.0, 171.0, 170.0, 169.0, 170.0, 168.0, 172.0, 171.5, 168.0, 169.0, 172.5, 171.0, 170.0, 172.0, 169.0, 169.0, 169.5, 171.0, 171.0, 168.0, 169.5, 170.0, 173.5, 172.0, 169.5, 168.5, 170.5, 169.0, 171.0, 171.0, 170.0, 172.0, 169.0, 169.0, 167.0, 171.0, 171.0, 171.0, 169.0, 169.0, 172.0, 172.0, 170.5, 171.0, 172.0, 169.5, 173.0, 171.0, 173.0, 169.0, 171.0, 172.0, 168.0, 170.0, 171.0, 172.0, 171.0, 170.0, 172.0, 170.0, 170.5, 170.0, 168.0, 172.0, 175.0, 169.0, 170.5, 170.5, 171.0, 169.0, 170.0, 169.0, 171.0, 172.0, 168.0, 173.5, 172.0, 169.5, 169.0, 170.5, 171.5, 170.0, 171.0, 172.0, 169.0, 171.0, 170.0, 169.0, 169.0, 169.0, 170.0, 170.0, 171.0, 171.0, 168.0, 169.0, 171.0, 170.0, 170.0, 172.0, 174.0, 171.0, 172.0, 173.0, 169.0, 168.0, 171.0, 170.5, 169.0, 168.0, 168.0, 172.0, 171.5, 171.5, 172.0, 169.0, 169.0, 171.0, 169.0, 171.0, 169.0, 170.0, 168.0, 171.0, 171.0, 170.0, 167.0, 171.0, 168.5, 170.0, 172.0, 170.0, 169.0, 171.0, 170.5, 169.0, 173.5, 169.0, 169.0, 170.5, 170.0, 171.0, 172.0, 172.0, 172.0, 170.0, 167.5, 169.0, 169.0, 174.0, 170.5, 171.0, 170.5, 170.0, 171.0, 169.0, 169.5, 170.0, 170.0, 173.0, 170.5, 169.0, 170.0, 169.0, 169.0, 170.0, 169.0, 170.0, 171.0, 172.5, 170.0, 172.0, 171.0, 171.0, 170.0, 171.0, 169.0, 169.5, 170.5, 169.0, 171.5, 170.5, 170.0, 169.0, 171.0, 172.0, 170.0, 169.0, 170.0, 174.0, 170.0, 171.0, 169.5, 170.0, 171.0, 170.0, 170.0, 170.0, 172.0, 167.0, 171.5, 168.0, 172.0, 169.0, 172.0, 169.5, 171.0, 171.0, 169.0, 170.0, 169.0, 171.0, 170.0, 172.0, 172.0, 170.5, 171.0, 171.0, 171.0, 172.0, 168.0, 171.0, 168.0, 171.0, 171.5, 171.0, 170.0, 168.0, 170.5, 170.5, 168.0, 168.0, 169.0, 172.0, 171.0, 171.0, 172.0, 169.0, 171.0, 171.0, 172.0, 169.0, 169.0, 172.0, 170.0, 169.5, 170.0, 171.0, 169.0, 169.0, 169.0, 171.0, 169.0, 171.0, 171.0, 170.0, 170.0, 170.5, 172.0, 171.5, 170.5, 170.0, 171.0, 171.0, 172.0, 168.0, 170.5, 172.0, 169.0, 172.0, 169.0, 169.0, 170.0, 170.0, 170.0, 172.0, 169.0, 170.0, 168.0, 170.0, 171.0, 172.0, 170.0, 172.0, 172.0, 169.0, 169.0, 170.5, 171.0, 169.0, 169.0, 171.5, 171.0, 172.5, 170.0, 171.0, 170.5, 171.5, 172.0, 169.0, 170.0, 171.0, 170.0, 172.0, 171.0, 169.5, 172.5, 169.0, 171.0, 172.0, 172.0, 171.0, 172.0, 172.0, 171.0, 169.0, 168.0, 171.0, 172.5, 171.0, 171.0, 169.0, 169.0, 169.5, 169.0, 172.0, 172.0, 171.5, 169.5, 170.5, 172.0, 169.0, 170.0, 170.0, 172.0, 171.0, 169.5, 169.0, 172.0, 172.0, 169.5, 170.0, 172.0, 170.0, 171.0, 172.0, 169.0, 169.0, 169.0, 170.5, 172.0, 172.0, 169.0, 171.0, 172.0, 171.0, 169.0, 171.0, 171.0, 170.0, 171.0, 170.0, 171.0, 170.0, 170.0, 172.0, 171.0, 172.0, 170.0, 173.0, 171.0, 171.0, 169.0, 170.0, 169.0, 171.0, 169.5, 172.0, 169.5, 170.0, 170.0, 169.0, 172.0, 171.0, 171.0, 169.0, 169.0, 172.0, 171.0, 171.0, 170.5, 170.5, 171.0, 169.5, 168.5, 170.0, 168.0, 171.0, 170.5, 171.0, 170.0, 170.0, 171.0, 171.0, 171.0, 172.0, 171.0, 172.5, 169.0, 171.5, 171.0, 171.5, 170.0, 169.0, 170.0, 171.0, 172.0, 171.5, 172.0, 171.0, 171.5, 172.0, 169.0, 171.0, 172.0, 170.0, 169.0, 169.0, 172.0, 168.0, 172.0, 172.0, 170.0, 172.0, 171.0, 170.0, 171.0, 168.5, 170.0, 172.0, 172.0, 170.0, 171.5, 170.0, 169.0, 169.0, 172.0, 173.0, 170.0, 171.0, 169.0, 168.0, 169.5, 172.0, 171.0, 170.0, 169.0, 169.0, 171.0, 171.0, 170.0, 173.0, 168.0, 171.5, 173.5, 172.0, 170.0, 169.5, 172.0, 169.0, 171.0, 172.0, 171.0, 172.0, 170.0, 171.0, 171.0, 172.0, 172.0, 169.0, 172.0, 169.0, 171.0, 171.0, 171.0, 169.0, 169.0, 171.0, 171.5, 170.5, 172.0, 171.0, 169.0, 171.0, 173.0, 172.0, 170.0, 170.0, 170.0, 172.0, 171.0, 171.5, 172.0, 168.0, 172.0, 172.0, 172.0, 169.0, 171.0, 170.0, 169.5, 168.0, 172.0, 171.0, 170.0, 169.0, 169.0, 171.5, 170.0, 172.0, 171.0, 171.0, 169.0, 169.0, 168.0, 170.0, 170.0, 169.0, 171.0, 169.0, 171.5, 168.0, 170.0, 171.0, 171.0, 171.0, 172.0, 171.0, 171.0, 172.0, 169.0, 172.0, 170.0, 172.0, 170.0, 171.0, 172.0, 171.0, 171.0, 170.5, 171.0, 171.0, 171.0, 170.0, 172.0, 170.0, 169.5, 172.0, 170.0, 172.0, 171.0, 171.0, 170.0, 170.0, 168.0, 171.5, 170.0, 171.0, 169.0, 168.0, 172.0, 172.0, 170.5, 172.0, 169.0, 171.0, 171.0, 171.0, 172.0, 171.0, 168.0, 172.0, 172.0, 172.0, 168.0, 169.5, 169.0, 171.0, 170.0, 170.5, 170.0, 170.5, 170.5, 172.0, 172.0, 171.0, 168.0, 173.0, 171.5, 168.0, 170.0, 172.0, 170.0, 169.0, 170.0, 170.0, 171.0, 172.0, 169.0, 171.0, 172.0, 168.0, 168.5, 169.0, 169.0, 172.0, 172.0, 171.0, 172.0, 168.0, 172.0, 170.0, 170.0, 171.0, 169.5, 169.5, 169.0, 169.0, 171.0, 171.0, 169.0, 169.0, 168.0, 169.0, 171.0, 170.0, 168.0, 171.0, 172.0, 172.0, 170.5, 171.0, 169.0, 172.0, 172.0, 169.0, 170.5, 171.0, 169.0, 170.5, 169.0, 170.0, 170.0, 170.0, 171.5, 170.0, 171.0, 169.0, 170.0, 169.0, 169.0, 169.0, 171.0, 170.0, 171.0, 170.0, 172.0, 171.0, 172.0, 169.0, 172.0, 169.0, 168.0, 172.0, 169.0, 168.0, 168.0, 171.0, 170.0, 172.0, 175.0, 171.0, 171.0, 169.0]\n"
     ]
    }
   ],
   "source": [
    "print(medians)"
   ]
  },
  {
   "cell_type": "code",
   "execution_count": 6,
   "metadata": {},
   "outputs": [
    {
     "data": {
      "image/png": "[encoded data removed]",
      "text/plain": [
       "<Figure size 432x288 with 1 Axes>"
      ]
     },
     "metadata": {
      "needs_background": "light"
     },
     "output_type": "display_data"
    }
   ],
   "source": [
    "# plotting the medians list histogram plot.\n",
    "plt.hist(medians)\n",
    "plt.show()"
   ]
  },
  {
   "cell_type": "code",
   "execution_count": 7,
   "metadata": {},
   "outputs": [],
   "source": [
    "# alpha is the confidence interval for the random variable df.\n",
    "alpha = 0.95"
   ]
  },
  {
   "cell_type": "code",
   "execution_count": 8,
   "metadata": {},
   "outputs": [],
   "source": [
    "# calculate the lower limit of the confidence interval.\n",
    "p = ((1-alpha)/2) *100\n",
    "lower = np.percentile(medians, p)"
   ]
  },
  {
   "cell_type": "code",
   "execution_count": 9,
   "metadata": {},
   "outputs": [],
   "source": [
    "# calculate the upper limit of the confidence interval.\n",
    "p = (alpha + (1-alpha)/2) *100\n",
    "upper = np.percentile(medians, p)"
   ]
  },
  {
   "cell_type": "code",
   "execution_count": 10,
   "metadata": {},
   "outputs": [
    {
     "name": "stdout",
     "output_type": "stream",
     "text": [
      "Confidence interval using empirical bootstrap is [168.0, 173.0].\n"
     ]
    }
   ],
   "source": [
    "# printing the confidence interval.\n",
    "print(\"Confidence interval using empirical bootstrap is [\" + str(lower) + \", \" + str(upper) +\"].\")"
   ]
  }
 ],
 "metadata": {
  "kernelspec": {
   "display_name": "Python 3",
   "language": "python",
   "name": "python3"
  },
  "language_info": {
   "codemirror_mode": {
    "name": "ipython",
    "version": 3
   },
   "file_extension": ".py",
   "mimetype": "text/x-python",
   "name": "python",
   "nbconvert_exporter": "python",
   "pygments_lexer": "ipython3",
   "version": "3.7.3"
  }
 },
 "nbformat": 4,
 "nbformat_minor": 2
}
